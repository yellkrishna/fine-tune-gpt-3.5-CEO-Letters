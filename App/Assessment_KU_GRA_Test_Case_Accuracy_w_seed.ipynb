{
  "cells": [
    {
      "cell_type": "markdown",
      "metadata": {
        "id": "RVX2LO1vBA9V"
      },
      "source": [
        "#Introduction"
      ]
    },
    {
      "cell_type": "markdown",
      "metadata": {
        "id": "uv5Wbbq2BFAF"
      },
      "source": [
        "The goal of this exercise is to identify the existence of a few dimensions in letters written by CEOs to shareholders using OpenAI’s language model. The language model is accessed using OpenAI’s API. The model is first fine-tuned using two of the three training datasets provided with the leftover dataset used as a validation set. We check the predicted dimensions for the validation dataset and compare it with the true values. Similarly, we also predict the dimensions for in-sample data and compare with their true values. The accuracy of the prediction is calculated.\n",
        "\n",
        "\n"
      ]
    },
    {
      "cell_type": "code",
      "execution_count": 26,
      "metadata": {
        "id": "ravK1MmtFLbF"
      },
      "outputs": [],
      "source": [
        "import pandas as pd\n",
        "import requests\n",
        "import nltk\n",
        "from nltk.tokenize import word_tokenize\n",
        "from nltk.corpus import stopwords\n",
        "import string\n",
        "import os\n",
        "from sklearn.feature_extraction.text import TfidfVectorizer\n",
        "from google.colab import drive\n",
        "from openai import OpenAI\n",
        "import json\n",
        "import time"
      ]
    },
    {
      "cell_type": "code",
      "execution_count": 27,
      "metadata": {
        "colab": {
          "base_uri": "https://localhost:8080/"
        },
        "id": "nGqiPXHgzzCu",
        "outputId": "0c19d4fa-9c71-4e53-b15e-c970c4449d8e"
      },
      "outputs": [
        {
          "name": "stdout",
          "output_type": "stream",
          "text": [
            "Drive already mounted at /content/drive; to attempt to forcibly remount, call drive.mount(\"/content/drive\", force_remount=True).\n"
          ]
        }
      ],
      "source": [
        "# Mount Google Drive\n",
        "drive.mount('/content/drive')"
      ]
    },
    {
      "cell_type": "markdown",
      "metadata": {
        "id": "LhYZ3ZtVFkqt"
      },
      "source": [
        "# Methodology"
      ]
    },
    {
      "cell_type": "markdown",
      "metadata": {
        "id": "WlZge9-KBQz3"
      },
      "source": [
        "## Load and Preprocess the Data:\n",
        "We are using the provided train2 and train3 datasets as the training set and the train1 dataset as the validation set. In this step, we concatenated the train2 and train3 datasets to create a single training set."
      ]
    },
    {
      "cell_type": "code",
      "execution_count": 28,
      "metadata": {
        "id": "AZLvTyZ3FjgS"
      },
      "outputs": [],
      "source": [
        "def load_and_preprocess_train_data(train_files):\n",
        "  # Load data from Excel files\n",
        "  df_train = pd.concat([pd.read_excel(file) for file in train_files])\n",
        "\n",
        "  # Handling Missing Values\n",
        "  # Replace missing values with a placeholder or drop rows with missing values\n",
        "  df_train.dropna(subset=['paragraph'], inplace=True)\n",
        "\n",
        "  \"\"\"# Download stopwords corpus (if not already downloaded)\n",
        "  nltk.download('stopwords')\n",
        "  nltk.download('punkt')\"\"\"\n",
        "\n",
        "  # Preprocess the text data\n",
        "  # Lower-Case words\n",
        "  df_train['processed_paragraph'] = df_train['paragraph'].apply(lambda text: text.lower())\n",
        "\n",
        "  return df_train"
      ]
    },
    {
      "cell_type": "code",
      "execution_count": 29,
      "metadata": {
        "id": "AFSqb9liISK6"
      },
      "outputs": [],
      "source": [
        "folder_path = r'/content/drive/MyDrive/GRA_KU_Assessment/Test accuracy/training data'\n",
        "# Get a list of all files in the folder\n",
        "files_in_folder = os.listdir(folder_path)\n",
        "# Filter Excel files with specific names (train1, train2, train3, etc.)\n",
        "train_files = [os.path.join(folder_path, file) for file in files_in_folder if file.startswith('train') and file.endswith('.xlsx')]\n",
        "df_train = load_and_preprocess_train_data(train_files)"
      ]
    },
    {
      "cell_type": "markdown",
      "metadata": {
        "id": "dnEbtMDTBqGS"
      },
      "source": [
        "## Prepare Data for Fine-tuning\n",
        "In this step, we convert our data into the format required for the OpenAI API.\n",
        "\n",
        "We convert the data from the table format (.xlsx format) provided to a Chat Completions API format that is accepted by OpenAI’s API. This format is a list of messages where each message has a role and content.\n",
        "\n",
        "In our training set, for each message in the requirem format will have three components for each datapoint (sentence) with each playing a different role. The first part of the message plays the role of *system*. This is where we give precise instructions to the model as to what we expect it to do. The next part of the message plays the role of *user* which contains portions of the letters from CEOs. This is supposed to be the input for fine-tuning process. The last part of the message plays the role of *assistant*, which is the result from which we want it to fine-tune. This is the training part."
      ]
    },
    {
      "cell_type": "code",
      "execution_count": 30,
      "metadata": {
        "id": "zXRYP5lMF95a"
      },
      "outputs": [],
      "source": [
        "def prepare_data_for_fine_tuning(df_train):\n",
        "  # Convert the 'paragraph' column to a list\n",
        "  paragraphs = df_train['processed_paragraph'].tolist()\n",
        "\n",
        "  # Create a list to store the formatted data\n",
        "  train_data = []\n",
        "\n",
        "  # Iterate through each row in the DataFrame and create prompt-completion pairs\n",
        "  for index, row in df_train.iterrows():\n",
        "      prompt = row['processed_paragraph']\n",
        "      # Convert 'Yes' and 'No' to 1 and 0, respectively\n",
        "      completion = ','.join(['1' if row[col] == 'Yes' else '0' for col in df_train.columns[1:]])\n",
        "      train_data.append({\"prompt\": prompt, \"completion\": completion})\n",
        "\n",
        "  # Display a few examples to verify the format\n",
        "  for example in train_data[:1]:\n",
        "      print(example)\n",
        "\n",
        "  return train_data"
      ]
    },
    {
      "cell_type": "code",
      "execution_count": 31,
      "metadata": {
        "id": "HGwVnntB3kOA"
      },
      "outputs": [],
      "source": [
        "def convert_to_chat_completion(prompt_completion_data):\n",
        "    chat_completion_data = []\n",
        "\n",
        "    for entry in prompt_completion_data:\n",
        "        prompt = entry['prompt']\n",
        "        completion = entry['completion']\n",
        "\n",
        "        # Extracting the completion details and converting them into the desired format\n",
        "        completion_details = [f\"{key}: {'Yes' if value == '1' else 'No'}\" for key, value in zip(['Goal', 'Activity', 'Strategy', 'Plan', 'Structure', 'Innovation', 'Tactics', 'Relevance'], completion.split(','))]\n",
        "\n",
        "        # Joining the completion details into a single string\n",
        "        completion_text = ', '.join(completion_details)\n",
        "\n",
        "        # Creating the chat-completion format\n",
        "        conversation = {\n",
        "            \"messages\": [\n",
        "                {\"role\": \"system\", \"content\": \"Use the folowing step-by-step instructon to respond to the user inputs. Step 1 - In the user content which is taken from letters written by CEO to shareholders, you have to identify the existence of dimensions/qualities that are provided in this list given in brackets and that are seperated by commas ['Goal', 'Activity', 'Strategy', 'Plan', 'Structure', 'Innovation', 'Tactics', 'Relevance']. Step 2 - For each of these dimensions, if the dimension exists in the user prompt based on the assistant content I provide to you in the fine-tuning data, answer Yes, otherwise answer No. After step2, this is an example output whose template you must use to provide your answer - ['Goal: No, Activity: Yes, Strategy: Yes, Plan: Yes, Structure: Yes, Innovation: Yes, Tactics: No, Relevance: No']\"},\n",
        "                {\"role\": \"user\", \"content\": prompt},\n",
        "                {\"role\": \"assistant\", \"content\": completion_text}\n",
        "            ]\n",
        "        }\n",
        "\n",
        "        chat_completion_data.append(conversation)\n",
        "\n",
        "    return chat_completion_data\n"
      ]
    },
    {
      "cell_type": "code",
      "execution_count": 32,
      "metadata": {
        "colab": {
          "base_uri": "https://localhost:8080/"
        },
        "id": "EUVbpIvkInFY",
        "outputId": "eb35af91-f5be-47f6-e137-be5353120eef"
      },
      "outputs": [
        {
          "name": "stdout",
          "output_type": "stream",
          "text": [
            "{'prompt': 'to our shareowners:\\nrandom forests, naïve bayesian estimators, restful services, gossip protocols, eventual consistency, data\\nsharding, anti-entropy, byzantine quorum, erasure coding, vector clocks … walk into certain amazon meetings,\\nand you may momentarily think you’ve stumbled into a computer science lecture', 'completion': '0,0,1,0,0,0,0,0,1,0'}\n"
          ]
        }
      ],
      "source": [
        "train_data = prepare_data_for_fine_tuning(df_train)\n",
        "train_data = convert_to_chat_completion(train_data)"
      ]
    },
    {
      "cell_type": "code",
      "execution_count": 33,
      "metadata": {
        "colab": {
          "base_uri": "https://localhost:8080/"
        },
        "id": "x685jK79IunK",
        "outputId": "d5746088-0bb0-4726-ba54-115558984c25"
      },
      "outputs": [
        {
          "name": "stdout",
          "output_type": "stream",
          "text": [
            "{'messages': [{'role': 'system', 'content': \"Use the folowing step-by-step instructon to respond to the user inputs. Step 1 - In the user content which is taken from letters written by CEO to\\xa0shareholders, you have to identify the existence of dimensions/qualities that are provided in this list given in brackets and that are seperated by commas ['Goal', 'Activity', 'Strategy', 'Plan', 'Structure', 'Innovation', 'Tactics', 'Relevance']. Step 2 - For each of these dimensions, if the dimension exists in the user prompt based on the assistant content I provide to you in the fine-tuning data, answer Yes, otherwise answer No. After step2, this is an example output whose template you must use to provide your answer - ['Goal: No, Activity: Yes, Strategy: Yes, Plan: Yes, Structure: Yes, Innovation: Yes, Tactics: No, Relevance: No']\"}, {'role': 'user', 'content': 'to our shareowners:\\nrandom forests, naïve bayesian estimators, restful services, gossip protocols, eventual consistency, data\\nsharding, anti-entropy, byzantine quorum, erasure coding, vector clocks … walk into certain amazon meetings,\\nand you may momentarily think you’ve stumbled into a computer science lecture'}, {'role': 'assistant', 'content': 'Goal: No, Activity: No, Strategy: Yes, Plan: No, Structure: No, Innovation: No, Tactics: No, Relevance: No'}]}\n"
          ]
        }
      ],
      "source": [
        "print(train_data[0])"
      ]
    },
    {
      "cell_type": "markdown",
      "metadata": {
        "id": "tQON5n4_HNWX"
      },
      "source": [
        "## Fine-tune the model\n",
        "We invoke an OpenAI model, feed the training data and finetune it. The base model used for fine-tuning is gpt-3.5-turbo."
      ]
    },
    {
      "cell_type": "code",
      "execution_count": 34,
      "metadata": {
        "id": "2YStub91PVdZ"
      },
      "outputs": [],
      "source": [
        "def fine_tune_model(train_data, api_key):\n",
        "  # Assuming train_data contains your prompt-completion pairs\n",
        "  # Save the train_data in JSON Lines format\n",
        "  with open(\"/content/drive/MyDrive/GRA_KU_Assessment/Test accuracy/mydata.jsonl\", \"w\") as file:\n",
        "      for example in train_data:\n",
        "          file.write(json.dumps(example) + \"\\n\")\n",
        "\n",
        "  # Initialize the OpenAI client\n",
        "  client = OpenAI(api_key= api_key)\n",
        "\n",
        "  # Upload the JSON Lines file for fine-tuning\n",
        "  try:\n",
        "    resp1 = client.files.create(\n",
        "        file=open(\"/content/drive/MyDrive/GRA_KU_Assessment/Test accuracy/mydata.jsonl\", \"rb\"),\n",
        "        purpose=\"fine-tune\"\n",
        "    )\n",
        "    print(\"File uploaded successfully.\")\n",
        "  except Exception as e:\n",
        "    print(\"File upload failed:\", e)\n",
        "    return None, None\n",
        "\n",
        "  # Create the fine-tuning job\n",
        "  try:\n",
        "    resp2 = client.fine_tuning.jobs.create(\n",
        "    training_file=resp1.id,\n",
        "    model=\"gpt-3.5-turbo\"\n",
        "    )\n",
        "    print(\"Fine-tuning job created successfully.\")\n",
        "  except Exception as e:\n",
        "    print(\"Fine-tuning job creation failed:\", e)\n",
        "    return None, None\n",
        "\n",
        "  # Check the status of the fine-tuning job\n",
        "  while True:\n",
        "    resp3 = client.fine_tuning.jobs.retrieve(resp2.id)\n",
        "    status = resp3.status\n",
        "    print(\"Fine-tuning job status:\", status)\n",
        "    if status == \"succeeded\":\n",
        "      print(\"Fine-tuning job completed successfully.\")\n",
        "      break\n",
        "    elif status == \"failed\":\n",
        "      print(\"Fine-tuning job failed:\", resp3.error)\n",
        "      break\n",
        "    elif status == \"cancelled\":\n",
        "      print(\"Fine-tuning job cancelled by user.\")\n",
        "      break\n",
        "    else:\n",
        "      print(\"Fine-tuning job in progress. Please wait...\")\n",
        "      time.sleep(60)\n",
        "\n",
        "  return resp2, client\n"
      ]
    },
    {
      "cell_type": "code",
      "execution_count": 35,
      "metadata": {
        "colab": {
          "base_uri": "https://localhost:8080/"
        },
        "id": "wOi9ZoG7IyfV",
        "outputId": "f99368b8-2f10-47eb-f2b8-1f111b905f87"
      },
      "outputs": [
        {
          "name": "stdout",
          "output_type": "stream",
          "text": [
            "File uploaded successfully.\n",
            "Fine-tuning job created successfully.\n",
            "Fine-tuning job status: validating_files\n",
            "Fine-tuning job in progress. Please wait...\n",
            "Fine-tuning job status: running\n",
            "Fine-tuning job in progress. Please wait...\n",
            "Fine-tuning job status: running\n",
            "Fine-tuning job in progress. Please wait...\n",
            "Fine-tuning job status: running\n",
            "Fine-tuning job in progress. Please wait...\n",
            "Fine-tuning job status: running\n",
            "Fine-tuning job in progress. Please wait...\n",
            "Fine-tuning job status: running\n",
            "Fine-tuning job in progress. Please wait...\n",
            "Fine-tuning job status: running\n",
            "Fine-tuning job in progress. Please wait...\n",
            "Fine-tuning job status: running\n",
            "Fine-tuning job in progress. Please wait...\n",
            "Fine-tuning job status: running\n",
            "Fine-tuning job in progress. Please wait...\n",
            "Fine-tuning job status: running\n",
            "Fine-tuning job in progress. Please wait...\n",
            "Fine-tuning job status: running\n",
            "Fine-tuning job in progress. Please wait...\n",
            "Fine-tuning job status: running\n",
            "Fine-tuning job in progress. Please wait...\n",
            "Fine-tuning job status: running\n",
            "Fine-tuning job in progress. Please wait...\n",
            "Fine-tuning job status: running\n",
            "Fine-tuning job in progress. Please wait...\n",
            "Fine-tuning job status: succeeded\n",
            "Fine-tuning job completed successfully.\n"
          ]
        }
      ],
      "source": [
        "api_key = 'your-api-key'\n",
        "response, client = fine_tune_model(train_data, api_key)"
      ]
    },
    {
      "cell_type": "code",
      "execution_count": 36,
      "metadata": {
        "colab": {
          "base_uri": "https://localhost:8080/"
        },
        "id": "NLptqQH1I1u8",
        "outputId": "d0c4a696-7ec0-4fef-bfb6-8c0eb506dccc"
      },
      "outputs": [
        {
          "name": "stdout",
          "output_type": "stream",
          "text": [
            "FineTuningJob(id='ftjob-yI2sD8wHD0vKTdB0rBuOSAUa', created_at=1700583838, error=None, fine_tuned_model=None, finished_at=None, hyperparameters=Hyperparameters(n_epochs='auto', batch_size='auto', learning_rate_multiplier='auto'), model='gpt-3.5-turbo-0613', object='fine_tuning.job', organization_id='org-BNdO85mmDzyE4YWAlVvz9Z2A', result_files=[], status='validating_files', trained_tokens=None, training_file='file-mStBwGKPsCyJFcEk0FAXuQ4O', validation_file=None)\n"
          ]
        }
      ],
      "source": [
        "print(response)"
      ]
    },
    {
      "cell_type": "markdown",
      "metadata": {
        "id": "z9RbH12CHu_m"
      },
      "source": [
        "## Load and preprocess the validation data\n",
        "We load the validation data and do the necessary preprocessing. This is the train1.xslx data."
      ]
    },
    {
      "cell_type": "code",
      "execution_count": 37,
      "metadata": {
        "id": "E2ynN6GgH0kv"
      },
      "outputs": [],
      "source": [
        "def load_and_preprocess_test_data(test_file):\n",
        "  # Load data from the test file\n",
        "  df_test = pd.read_excel(test_file)\n",
        "\n",
        "  # Preprocess the text data similar to the training data\n",
        "  df_test['processed_paragraph'] = df_test['paragraph'].apply(lambda text: text.lower())\n",
        "\n",
        "  return df_test"
      ]
    },
    {
      "cell_type": "code",
      "execution_count": 38,
      "metadata": {
        "id": "9jXK3BzLI8jR"
      },
      "outputs": [],
      "source": [
        "test_file = r\"/content/drive/MyDrive/GRA_KU_Assessment/Test accuracy/test data/test_labels.xlsx\"\n",
        "df_test = load_and_preprocess_test_data(test_file)"
      ]
    },
    {
      "cell_type": "markdown",
      "metadata": {
        "id": "-erB24WCIADL"
      },
      "source": [
        "## Make Predictions\n",
        "We now use the fine-tuned model and feed in the validation set provided. We will use the results from the validation set to assess the model’s performance.\n",
        "\n"
      ]
    },
    {
      "cell_type": "code",
      "execution_count": 72,
      "metadata": {
        "id": "jrNXT29XS2Te"
      },
      "outputs": [],
      "source": [
        "def make_predictions(df_test, fine_tuned_model_id, client):\n",
        "  # Get the sentences to test from the dataframe\n",
        "  sentences_to_test = df_test['processed_paragraph'].tolist()\n",
        "  # Initialize an empty list to store the responses\n",
        "  responses = []\n",
        "  # Set the batch size for chat completions\n",
        "  batch_size = 10\n",
        "  # Loop through the sentences in batches\n",
        "  for i in range(0, len(sentences_to_test), batch_size):\n",
        "    # Get the current batch of sentences\n",
        "    batch = sentences_to_test[i:i+batch_size]\n",
        "    # Loop through the sentences in the batch\n",
        "    for ind, sentence in enumerate(batch):\n",
        "      # Create the system and user messages for each sentence\n",
        "      messages = [\n",
        "        {\"role\": \"system\", \"content\": \"Use the folowing step-by-step instructon to respond to the user inputs. Step 1 - In the user content which is taken from letters written by CEO to shareholders, you have to identify the existence of dimensions/qualities that are provided in this list given in brackets and that are seperated by commas ['Goal', 'Activity', 'Strategy', 'Plan', 'Structure', 'Innovation', 'Tactics', 'Relevance']. Step 2 - For each of these dimensions, if the dimension exists in the user prompt based on the assistant content I provide to you in the fine-tuning data, answer Yes, otherwise answer No. After step2, this is an example output whose template you must use to provide your answer - ['Goal: No, Activity: Yes, Strategy: Yes, Plan: Yes, Structure: Yes, Innovation: Yes, Tactics: No, Relevance: No']\"},\n",
        "        {\"role\": \"user\", \"content\": sentence}\n",
        "      ]\n",
        "      # Try to make a chat completion for the sentence\n",
        "      try:\n",
        "        response = client.chat.completions.create(\n",
        "        model=fine_tuned_model_id,\n",
        "        messages=messages,\n",
        "        seed=99,\n",
        "        temperature=0\n",
        "        )\n",
        "        print(\"Chat completion succeeded for sentence\", ind, \" and batch \", i)\n",
        "      # Handle any errors or exceptions\n",
        "      except Exception as e:\n",
        "        print(\"Chat completion failed for sentence\", ind, \" and batch \", i, \":\", e)\n",
        "        return None\n",
        "      # Append the assistant message content to the responses list\n",
        "      responses.append(response.choices[0].message.content)\n",
        "\n",
        "  # Return the responses list\n",
        "  return responses\n"
      ]
    },
    {
      "cell_type": "code",
      "execution_count": 73,
      "metadata": {
        "colab": {
          "base_uri": "https://localhost:8080/"
        },
        "id": "_NEqRmO0Kqu0",
        "outputId": "fcd68612-ea87-4b36-f3c0-6996e0769b9a"
      },
      "outputs": [
        {
          "name": "stdout",
          "output_type": "stream",
          "text": [
            "Chat completion succeeded for sentence 0  and batch  0\n",
            "Chat completion succeeded for sentence 1  and batch  0\n",
            "Chat completion succeeded for sentence 2  and batch  0\n",
            "Chat completion succeeded for sentence 3  and batch  0\n",
            "Chat completion succeeded for sentence 4  and batch  0\n",
            "Chat completion succeeded for sentence 5  and batch  0\n",
            "Chat completion succeeded for sentence 6  and batch  0\n",
            "Chat completion succeeded for sentence 7  and batch  0\n",
            "Chat completion succeeded for sentence 8  and batch  0\n",
            "Chat completion succeeded for sentence 9  and batch  0\n",
            "Chat completion succeeded for sentence 0  and batch  10\n",
            "Chat completion succeeded for sentence 1  and batch  10\n",
            "Chat completion succeeded for sentence 2  and batch  10\n",
            "Chat completion succeeded for sentence 3  and batch  10\n",
            "Chat completion succeeded for sentence 4  and batch  10\n",
            "Chat completion succeeded for sentence 5  and batch  10\n",
            "Chat completion succeeded for sentence 6  and batch  10\n",
            "Chat completion succeeded for sentence 7  and batch  10\n",
            "Chat completion succeeded for sentence 8  and batch  10\n",
            "Chat completion succeeded for sentence 9  and batch  10\n",
            "Chat completion succeeded for sentence 0  and batch  20\n",
            "Chat completion succeeded for sentence 1  and batch  20\n",
            "Chat completion succeeded for sentence 2  and batch  20\n",
            "Chat completion succeeded for sentence 3  and batch  20\n",
            "Chat completion succeeded for sentence 4  and batch  20\n",
            "Chat completion succeeded for sentence 5  and batch  20\n",
            "Chat completion succeeded for sentence 6  and batch  20\n",
            "Chat completion succeeded for sentence 7  and batch  20\n",
            "Chat completion succeeded for sentence 8  and batch  20\n",
            "Chat completion succeeded for sentence 9  and batch  20\n",
            "Chat completion succeeded for sentence 0  and batch  30\n",
            "Chat completion succeeded for sentence 1  and batch  30\n",
            "Chat completion succeeded for sentence 2  and batch  30\n",
            "Chat completion succeeded for sentence 3  and batch  30\n",
            "Chat completion succeeded for sentence 4  and batch  30\n",
            "Chat completion succeeded for sentence 5  and batch  30\n",
            "Chat completion succeeded for sentence 6  and batch  30\n",
            "Chat completion succeeded for sentence 7  and batch  30\n",
            "Chat completion succeeded for sentence 8  and batch  30\n"
          ]
        }
      ],
      "source": [
        "fine_tuned_model_id = \"gpt-3.5-turbo\"\n",
        "predictions = make_predictions(df_test, fine_tuned_model_id, client)"
      ]
    },
    {
      "cell_type": "code",
      "execution_count": 74,
      "metadata": {
        "colab": {
          "base_uri": "https://localhost:8080/"
        },
        "id": "Pf7491Xs57YC",
        "outputId": "492016f2-7d9e-414a-8ce8-247fc6d44572"
      },
      "outputs": [
        {
          "name": "stdout",
          "output_type": "stream",
          "text": [
            "[\"['Goal: No, Activity: No, Strategy: No, Plan: No, Structure: No, Innovation: No, Tactics: No, Relevance: No']\", \"['Goal: No, Activity: Yes, Strategy: Yes, Plan: Yes, Structure: Yes, Innovation: Yes, Tactics: No, Relevance: No']\", \"['Goal: No, Activity: No, Strategy: No, Plan: No, Structure: No, Innovation: No, Tactics: No, Relevance: No']\", \"['Goal: No, Activity: No, Strategy: No, Plan: No, Structure: No, Innovation: No, Tactics: No, Relevance: No']\", \"['Goal: No, Activity: Yes, Strategy: Yes, Plan: No, Structure: No, Innovation: Yes, Tactics: No, Relevance: No']\", \"['Goal: No, Activity: Yes, Strategy: Yes, Plan: Yes, Structure: Yes, Innovation: Yes, Tactics: No, Relevance: No']\", \"['Goal: No, Activity: Yes, Strategy: Yes, Plan: Yes, Structure: No, Innovation: Yes, Tactics: No, Relevance: No']\", \"['Goal: No, Activity: Yes, Strategy: Yes, Plan: Yes, Structure: Yes, Innovation: No, Tactics: No, Relevance: No']\", \"['Goal: Yes, Activity: No, Strategy: No, Plan: No, Structure: No, Innovation: No, Tactics: No, Relevance: No']\", \"['Goal: No, Activity: Yes, Strategy: Yes, Plan: Yes, Structure: No, Innovation: No, Tactics: No, Relevance: No']\", \"['Goal: No, Activity: No, Strategy: No, Plan: No, Structure: No, Innovation: No, Tactics: No, Relevance: No']\", \"['Goal: No, Activity: Yes, Strategy: Yes, Plan: Yes, Structure: No, Innovation: No, Tactics: No, Relevance: No']\", \"['Goal: No, Activity: Yes, Strategy: Yes, Plan: Yes, Structure: No, Innovation: No, Tactics: No, Relevance: No']\", \"['Goal: Yes, Activity: Yes, Strategy: Yes, Plan: Yes, Structure: Yes, Innovation: No, Tactics: No, Relevance: No']\", \"['Goal: No, Activity: Yes, Strategy: Yes, Plan: Yes, Structure: No, Innovation: No, Tactics: No, Relevance: Yes']\", \"['Goal: No, Activity: No, Strategy: Yes, Plan: No, Structure: Yes, Innovation: No, Tactics: No, Relevance: No']\", \"['Goal: No, Activity: Yes, Strategy: Yes, Plan: Yes, Structure: No, Innovation: Yes, Tactics: No, Relevance: No']\", \"['Goal: No, Activity: Yes, Strategy: Yes, Plan: Yes, Structure: No, Innovation: Yes, Tactics: No, Relevance: No']\", \"['Goal: No, Activity: Yes, Strategy: Yes, Plan: Yes, Structure: No, Innovation: No, Tactics: No, Relevance: No']\", \"['Goal: No, Activity: Yes, Strategy: Yes, Plan: Yes, Structure: No, Innovation: Yes, Tactics: No, Relevance: No']\", \"['Goal: No, Activity: Yes, Strategy: Yes, Plan: Yes, Structure: No, Innovation: Yes, Tactics: No, Relevance: No']\", \"['Goal: No, Activity: Yes, Strategy: Yes, Plan: Yes, Structure: Yes, Innovation: Yes, Tactics: No, Relevance: No']\", \"['Goal: No, Activity: Yes, Strategy: No, Plan: No, Structure: No, Innovation: Yes, Tactics: No, Relevance: No']\", \"['Goal: No, Activity: Yes, Strategy: Yes, Plan: No, Structure: No, Innovation: Yes, Tactics: No, Relevance: No']\", \"['Goal: No, Activity: Yes, Strategy: Yes, Plan: Yes, Structure: No, Innovation: Yes, Tactics: No, Relevance: No']\", \"['Goal: No, Activity: No, Strategy: No, Plan: No, Structure: No, Innovation: No, Tactics: No, Relevance: No']\", \"['Goal: No, Activity: No, Strategy: No, Plan: No, Structure: No, Innovation: No, Tactics: No, Relevance: No']\", \"['Goal: No, Activity: Yes, Strategy: Yes, Plan: No, Structure: No, Innovation: Yes, Tactics: No, Relevance: No']\", \"['Goal: No, Activity: No, Strategy: No, Plan: No, Structure: No, Innovation: Yes, Tactics: No, Relevance: No']\", \"['Goal: No, Activity: No, Strategy: No, Plan: No, Structure: No, Innovation: No, Tactics: No, Relevance: No']\", \"['Goal: No, Activity: Yes, Strategy: Yes, Plan: Yes, Structure: No, Innovation: Yes, Tactics: No, Relevance: No']\", \"['Goal: Yes, Activity: No, Strategy: Yes, Plan: Yes, Structure: No, Innovation: No, Tactics: No, Relevance: No']\", \"['Goal: Yes, Activity: No, Strategy: Yes, Plan: No, Structure: No, Innovation: No, Tactics: No, Relevance: No']\", \"['Goal: No, Activity: Yes, Strategy: Yes, Plan: Yes, Structure: No, Innovation: No, Tactics: Yes, Relevance: No']\", \"['Goal: Yes, Activity: Yes, Strategy: Yes, Plan: Yes, Structure: No, Innovation: No, Tactics: No, Relevance: Yes']\", \"['Goal: No, Activity: Yes, Strategy: No, Plan: No, Structure: No, Innovation: No, Tactics: No, Relevance: No']\", \"['Goal: No, Activity: No, Strategy: No, Plan: No, Structure: No, Innovation: No, Tactics: No, Relevance: No']\", \"['Goal: No, Activity: Yes, Strategy: No, Plan: No, Structure: No, Innovation: No, Tactics: No, Relevance: No']\", \"['Goal: No, Activity: No, Strategy: No, Plan: No, Structure: No, Innovation: No, Tactics: No, Relevance: No']\"]\n"
          ]
        }
      ],
      "source": [
        "print(predictions)"
      ]
    },
    {
      "cell_type": "markdown",
      "metadata": {
        "id": "8mBR2-sg-4GG"
      },
      "source": [
        "## Evaluate performance of Fine-tuned Model:\n",
        "We assess the performance of the fine-tuned model by comparing the results from the predictions step to the actual values provided in the validation set (out-of-sample) as well as the training set (in-sample)."
      ]
    },
    {
      "cell_type": "code",
      "execution_count": 75,
      "metadata": {
        "id": "dLt5VWuVoYLt"
      },
      "outputs": [],
      "source": [
        "import pandas as pd\n",
        "from sklearn.metrics import accuracy_score as acc_score, f1_score as f1, classification_report as class_rep\n",
        "\n",
        "\n",
        "\n",
        "def evaluate_classification(df_test, predictions):\n",
        "    output_list = [item[1:-1].split(', ') for item in predictions]\n",
        "    processed_data = []\n",
        "\n",
        "    for row in output_list:\n",
        "      if row == ['No dimensions identified in the user content.']:\n",
        "        processed_data.append([0] * 8)  # Appending zeros for all attributes as it's an exception\n",
        "      else:\n",
        "        processed_row = [1 if item.split(': ')[1].strip(\"'\") == 'Yes' else 0 for item in row]\n",
        "        processed_data.append(processed_row)\n",
        "\n",
        "    df_processed = pd.DataFrame(processed_data, columns=['Goal', 'Activity', 'Strategy', 'Plan', 'Structure', 'Innovation', 'Tactics', 'Relevance'])\n",
        "\n",
        "    # Reset the index of df_test and df_processed before concatenation\n",
        "    df_test.reset_index(drop=True, inplace=True)\n",
        "    df_processed.reset_index(drop=True, inplace=True)\n",
        "\n",
        "    final_df = pd.concat([df_test['paragraph'], df_processed, df_test['processed_paragraph']], axis=1)\n",
        "\n",
        "    new_df_test = df_test.copy()\n",
        "    cols_to_convert = new_df_test.columns[~new_df_test.columns.isin(['processed_paragraph', 'paragraph'])]\n",
        "    new_df_test[cols_to_convert] = new_df_test[cols_to_convert].replace({'Yes': 1, 'No': 0})\n",
        "\n",
        "    columns = ['Goal', 'Activity', 'Strategy', 'Plan', 'Structure', 'Innovation', 'Tactics', 'Relevance']\n",
        "    # Renamed variables to avoid conflict\n",
        "    accuracy_scores = {}\n",
        "    f1_scores = {}\n",
        "    classification_reports = {}\n",
        "\n",
        "    for col in columns:\n",
        "        y_pred = final_df[col]\n",
        "        y_true = new_df_test[col]\n",
        "\n",
        "        # Use the renamed function references\n",
        "        accuracy = acc_score(y_true, y_pred)\n",
        "        f1_value = f1(y_true, y_pred)\n",
        "\n",
        "        accuracy_scores[col] = accuracy\n",
        "        f1_scores[col] = f1_value\n",
        "\n",
        "        report = class_rep(y_true, y_pred)\n",
        "        classification_reports[col] = report\n",
        "\n",
        "    return accuracy_scores, f1_scores, classification_reports\n"
      ]
    },
    {
      "cell_type": "markdown",
      "metadata": {
        "id": "hNM3O3SrEGrk"
      },
      "source": [
        "## Results\n"
      ]
    },
    {
      "cell_type": "markdown",
      "metadata": {
        "id": "NmXCWu3nENwh"
      },
      "source": [
        "### Validation data\n",
        "The accuracy scores, F1 scores and the classification reports for the validation dataset (out-sample dataset), are presented below."
      ]
    },
    {
      "cell_type": "code",
      "execution_count": 76,
      "metadata": {
        "id": "WxaqaYiQ_-XP"
      },
      "outputs": [],
      "source": [
        "accuracy_score, f1_score, classification_report = evaluate_classification(df_test, predictions)"
      ]
    },
    {
      "cell_type": "code",
      "execution_count": 77,
      "metadata": {
        "colab": {
          "base_uri": "https://localhost:8080/"
        },
        "id": "8zocWXljAHxk",
        "outputId": "853629ad-778f-4af5-a626-ae1a13b86b1e"
      },
      "outputs": [
        {
          "name": "stdout",
          "output_type": "stream",
          "text": [
            "Accuracy Scores: {'Goal': 0.7692307692307693, 'Activity': 0.717948717948718, 'Strategy': 0.41025641025641024, 'Plan': 0.5384615384615384, 'Structure': 0.7948717948717948, 'Innovation': 0.7692307692307693, 'Tactics': 0.7435897435897436, 'Relevance': 0.28205128205128205}\n",
            "F1 Scores: {'Goal': 0.1818181818181818, 'Activity': 0.7659574468085107, 'Strategy': 0.25806451612903225, 'Plan': 0.24999999999999997, 'Structure': 0.5, 'Innovation': 0.6666666666666665, 'Tactics': 0.0, 'Relevance': 0.125}\n",
            "Classification Reports: {'Goal': '              precision    recall  f1-score   support\\n\\n           0       0.85      0.88      0.87        33\\n           1       0.20      0.17      0.18         6\\n\\n    accuracy                           0.77        39\\n   macro avg       0.53      0.52      0.52        39\\nweighted avg       0.75      0.77      0.76        39\\n', 'Activity': '              precision    recall  f1-score   support\\n\\n           0       0.71      0.59      0.65        17\\n           1       0.72      0.82      0.77        22\\n\\n    accuracy                           0.72        39\\n   macro avg       0.72      0.70      0.71        39\\nweighted avg       0.72      0.72      0.71        39\\n', 'Strategy': '              precision    recall  f1-score   support\\n\\n           0       0.86      0.36      0.51        33\\n           1       0.16      0.67      0.26         6\\n\\n    accuracy                           0.41        39\\n   macro avg       0.51      0.52      0.38        39\\nweighted avg       0.75      0.41      0.47        39\\n', 'Plan': '              precision    recall  f1-score   support\\n\\n           0       0.95      0.51      0.67        35\\n           1       0.15      0.75      0.25         4\\n\\n    accuracy                           0.54        39\\n   macro avg       0.55      0.63      0.46        39\\nweighted avg       0.87      0.54      0.62        39\\n', 'Structure': '              precision    recall  f1-score   support\\n\\n           0       0.82      0.93      0.87        29\\n           1       0.67      0.40      0.50        10\\n\\n    accuracy                           0.79        39\\n   macro avg       0.74      0.67      0.69        39\\nweighted avg       0.78      0.79      0.78        39\\n', 'Innovation': '              precision    recall  f1-score   support\\n\\n           0       0.88      0.78      0.82        27\\n           1       0.60      0.75      0.67        12\\n\\n    accuracy                           0.77        39\\n   macro avg       0.74      0.76      0.75        39\\nweighted avg       0.79      0.77      0.78        39\\n', 'Tactics': '              precision    recall  f1-score   support\\n\\n           0       0.76      0.97      0.85        30\\n           1       0.00      0.00      0.00         9\\n\\n    accuracy                           0.74        39\\n   macro avg       0.38      0.48      0.43        39\\nweighted avg       0.59      0.74      0.66        39\\n', 'Relevance': '              precision    recall  f1-score   support\\n\\n           0       0.24      1.00      0.39         9\\n           1       1.00      0.07      0.12        30\\n\\n    accuracy                           0.28        39\\n   macro avg       0.62      0.53      0.26        39\\nweighted avg       0.83      0.28      0.19        39\\n'}\n"
          ]
        }
      ],
      "source": [
        "# Print or use the collected metrics as needed\n",
        "print(\"Accuracy Scores:\", accuracy_score)\n",
        "print(\"F1 Scores:\", f1_score)\n",
        "print(\"Classification Reports:\", classification_report)"
      ]
    },
    {
      "cell_type": "code",
      "execution_count": null,
      "metadata": {
        "id": "M595XyaFHUmp"
      },
      "outputs": [],
      "source": []
    }
  ],
  "metadata": {
    "colab": {
      "provenance": []
    },
    "kernelspec": {
      "display_name": "Python 3",
      "name": "python3"
    },
    "language_info": {
      "name": "python"
    }
  },
  "nbformat": 4,
  "nbformat_minor": 0
}
